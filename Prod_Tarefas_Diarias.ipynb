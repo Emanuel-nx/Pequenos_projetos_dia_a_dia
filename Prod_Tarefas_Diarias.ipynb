{
  "nbformat": 4,
  "nbformat_minor": 0,
  "metadata": {
    "colab": {
      "provenance": [],
      "authorship_tag": "ABX9TyPSx1CJD+3W4FS4sFhgKsQC"
    },
    "kernelspec": {
      "name": "python3",
      "display_name": "Python 3"
    },
    "language_info": {
      "name": "python"
    }
  },
  "cells": [
    {
      "cell_type": "code",
      "source": [
        "# Lista de strings de entrada\n",
        "lista_strings = [\n",
        "    \"65d10d95d5db9e0014538897\",\n",
        "    \"6722d7c95207c7001435760a\",\n",
        "    \"659d571ecf04030014b07a8c\",\n",
        "    \"65f9d5ae7ab13d00145b88a1\",\n",
        "    \"617c371c70b8ab0011d621ad\"\n",
        "]\n",
        "\n",
        "# Formatar e imprimir os valores como ObjectId\n",
        "for i, item in enumerate(lista_strings):\n",
        "    if i == len(lista_strings) - 1:\n",
        "        print(f'ObjectId(\"{item}\")')\n",
        "    else:\n",
        "        print(f'ObjectId(\"{item}\"),')"
      ],
      "metadata": {
        "colab": {
          "base_uri": "https://localhost:8080/"
        },
        "id": "J49M5rMn_g3D",
        "outputId": "2ed5e24f-53b9-4430-8f82-b8710fd22ddf"
      },
      "execution_count": 2,
      "outputs": [
        {
          "output_type": "stream",
          "name": "stdout",
          "text": [
            "ObjectId(\"65d10d95d5db9e0014538897\"),\n",
            "ObjectId(\"6722d7c95207c7001435760a\"),\n",
            "ObjectId(\"659d571ecf04030014b07a8c\"),\n",
            "ObjectId(\"65f9d5ae7ab13d00145b88a1\"),\n",
            "ObjectId(\"617c371c70b8ab0011d621ad\")\n"
          ]
        }
      ]
    },
    {
      "cell_type": "code",
      "source": [],
      "metadata": {
        "id": "P_shRWJR_oQr"
      },
      "execution_count": null,
      "outputs": []
    }
  ]
}