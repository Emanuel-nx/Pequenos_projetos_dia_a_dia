{
  "nbformat": 4,
  "nbformat_minor": 0,
  "metadata": {
    "colab": {
      "provenance": [],
      "authorship_tag": "ABX9TyOUzzGh967/aP40CLEoKW+J"
    },
    "kernelspec": {
      "name": "python3",
      "display_name": "Python 3"
    },
    "language_info": {
      "name": "python"
    }
  },
  "cells": [
    {
      "cell_type": "markdown",
      "source": [
        "# Contexto:\n",
        "\n",
        "O objetivo deste projeto é extrair dados a partir de um filtro personalizado no Jira, utilizado em um projeto de atendimento de tickets. Esses dados serão tratados e transformados para viabilizar sua exportação em formato CSV.\n",
        "Além disso, como melhoria existe a possibilidade de integração com o BigQuery, visando a criação de um dashboard interativo para facilitar a análise e auxiliar na tomada de decisões estratégicas relacionadas ao atendimento e à performance operacional.\n"
      ],
      "metadata": {
        "id": "zJKwBZ_xBZIB"
      }
    },
    {
      "cell_type": "code",
      "source": [
        "# Instalando Jira\n",
        "!pip install jira"
      ],
      "metadata": {
        "id": "Q8e8P36pAo-2"
      },
      "execution_count": null,
      "outputs": []
    },
    {
      "cell_type": "code",
      "execution_count": 4,
      "metadata": {
        "id": "WdXr4S_6Aap9"
      },
      "outputs": [],
      "source": [
        "import pandas as pd\n",
        "from jira import JIRA\n",
        "from datetime import datetime, timedelta\n"
      ]
    },
    {
      "cell_type": "code",
      "source": [
        "# Conex~~ao com o Jira usando credenciasis de e-mail e seu TOKEN\n",
        "JIRA_SERVER = \"https://seu_dominio.atlassian.net/\"\n",
        "EMAIL = \"seuemail@.com\"\n",
        "API_TOKEN = \"TOKEN\"\n",
        "\n",
        "# Conectar ao Jira\n",
        "jira = JIRA(server=JIRA_SERVER, basic_auth=(EMAIL, API_TOKEN))\n",
        "\n",
        "# ID do filtro no Jira\n",
        "FILTER_ID = INSIRA O ID DO FILTRO\n",
        "query = f\"filter={FILTER_ID}\""
      ],
      "metadata": {
        "id": "8NnLsWjUAs7d"
      },
      "execution_count": 5,
      "outputs": []
    },
    {
      "cell_type": "code",
      "source": [
        "# Buscar todas as issues com paginação\n",
        "issues = []\n",
        "start_at = 0\n",
        "batch_size = 100  # Lote máximo permitido pelo Jira\n",
        "\n",
        "while True:\n",
        "    batch = jira.search_issues(query, startAt=start_at, maxResults=batch_size)\n",
        "\n",
        "    if not batch:  # Se não houver mais issues, encerra o loop\n",
        "        break\n",
        "\n",
        "    issues.extend(batch)  # Adiciona os resultados na lista principal\n",
        "    start_at += batch_size  # Avança para a próxima página\n",
        "\n",
        "print(f\"✅ Total de {len(issues)} issues carregadas.\")\n",
        "\n",
        "# Criar uma lista com os dados das issues\n",
        "dados = []\n",
        "for issue in issues:\n",
        "    fields = issue.fields\n",
        "\n",
        "    # ✅ Removendo \"[System] \" do campo \"Tipo do Item\"\n",
        "    tipo_item = fields.issuetype.name.replace(\"[System] \", \"\") if fields.issuetype else \"\"\n",
        "\n",
        "    # ✅ Ajustando CATEGORIA para incluir CATEGORIA INCIDENTE, se necessário\n",
        "    categoria = fields.customfield_10150 if hasattr(fields, 'customfield_10150') and fields.customfield_10150 else fields.customfield_10277 if hasattr(fields, 'customfield_10277') else \"\"\n",
        "\n",
        "    # ✅ Modificando STATUS: \"Concluída\" → \"Resolvido\"\n",
        "    status = fields.status.name.replace(\"Concluída\", \"Resolvido\") if fields.status else \"\"\n",
        "\n",
        "    dados.append({\n",
        "        \"TIPO DE ITEM\": tipo_item,\n",
        "        \"ID\": issue.key,\n",
        "        \"RESUMO\": fields.summary if fields.summary else \"\",\n",
        "        \"CHAPTER\": fields.customfield_10149 if hasattr(fields, 'customfield_10149') else \"\",\n",
        "        \"RESPONSAVEL\": fields.assignee.displayName if fields.assignee else \"\",\n",
        "        \"RELATOR\": fields.reporter.displayName if fields.reporter else \"\",\n",
        "        \"CATEGORIA\": categoria,\n",
        "        \"PRIORIDADE\": fields.priority.name if fields.priority else \"\",\n",
        "        \"STATUS\": status,\n",
        "        \"MOTIVO DE PENDENTE\": fields.customfield_10125 if hasattr(fields, 'customfield_10125') else \"\",\n",
        "        \"PLATAFORMA\": fields.customfield_10607 if hasattr(fields, 'customfield_10607') else \"\",\n",
        "        \"FREQUENCIA\": fields.customfield_10609 if hasattr(fields, 'customfield_10609') else \"\",\n",
        "        \"RESOLUÇÃO\": fields.resolution.name if fields.resolution else \"Sem Resolução\",\n",
        "        \"CRIADO\": fields.created if fields.created else \"\",\n",
        "        \"RESOLVIDO\": fields.resolutiondate if hasattr(fields, 'resolutiondate') else \"\",\n",
        "        \"TEMPO GASTO\": fields.timespent if fields.timespent else 0,\n",
        "        \"INICIO DESENVOLVIMENTO\": fields.customfield_10137 if hasattr(fields, 'customfield_10137') else \"\",\n",
        "        \"FINAL DESENVOLVIMENTO\": fields.customfield_10138 if hasattr(fields, 'customfield_10138') else \"\",\n",
        "    })"
      ],
      "metadata": {
        "colab": {
          "base_uri": "https://localhost:8080/"
        },
        "id": "kFv39oJ_Aw6b",
        "outputId": "61dc131b-5434-46cf-9da5-5a0fd2c8c830"
      },
      "execution_count": 8,
      "outputs": [
        {
          "output_type": "stream",
          "name": "stdout",
          "text": [
            "✅ Total de 185 issues carregadas.\n"
          ]
        }
      ]
    },
    {
      "cell_type": "code",
      "source": [
        "#CARREGAR E VIZUALIZAR OS DADOS\n",
        "df = pd.DataFrame(dados)\n",
        "display(df)"
      ],
      "metadata": {
        "id": "9YKdHQ6MA5gO"
      },
      "execution_count": null,
      "outputs": []
    },
    {
      "cell_type": "markdown",
      "source": [],
      "metadata": {
        "id": "gUuqJvr2BX70"
      }
    }
  ]
}